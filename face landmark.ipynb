{
 "cells": [
  {
   "cell_type": "code",
   "execution_count": 1,
   "metadata": {},
   "outputs": [],
   "source": [
    "import cv2\n",
    "import dlib\n",
    "import keyboard"
   ]
  },
  {
   "cell_type": "code",
   "execution_count": 2,
   "metadata": {},
   "outputs": [],
   "source": [
    "detector=dlib.get_frontal_face_detector()\n",
    "predictor=dlib.shape_predictor(\"shape_predictor_68_face_landmarks.dat\")\n"
   ]
  },
  {
   "cell_type": "code",
   "execution_count": 3,
   "metadata": {},
   "outputs": [],
   "source": [
    "cap=cv2.VideoCapture(0)\n",
    "while True:\n",
    "    ret, frame = cap.read()\n",
    "    gray=cv2.cvtColor(frame,cv2.COLOR_BGR2GRAY)\n",
    "    faces=detector(gray)\n",
    "    for face in faces:\n",
    "        landmark=predictor(gray, face)\n",
    "        lipUp=landmark.parts()[62]\n",
    "        lipDown=landmark.parts()[66]\n",
    "        keyboard.press(\"up\")\n",
    "        if(lipDown.y-lipUp.y>5):\n",
    "            keyboard.press(\"left\")\n",
    "        \n",
    "        else:\n",
    "            keyboard.press(\"right\")\n",
    "        \n",
    "        \n",
    "        #for point in landmark.parts():\n",
    "            #cv2.circle(frame, (point.x,point.y),2,(255,0,0),3)\n",
    "            \n",
    "    if ret:\n",
    "        cv2.imshow(\"my screen\",frame)\n",
    "    if cv2.waitKey(1)==ord(\"q\"):\n",
    "            break\n",
    "cap.release()\n",
    "cv2.destroyAllWindows()"
   ]
  }
 ],
 "metadata": {
  "kernelspec": {
   "display_name": "Python 3",
   "language": "python",
   "name": "python3"
  },
  "language_info": {
   "codemirror_mode": {
    "name": "ipython",
    "version": 3
   },
   "file_extension": ".py",
   "mimetype": "text/x-python",
   "name": "python",
   "nbconvert_exporter": "python",
   "pygments_lexer": "ipython3",
   "version": "3.7.7"
  }
 },
 "nbformat": 4,
 "nbformat_minor": 4
}
